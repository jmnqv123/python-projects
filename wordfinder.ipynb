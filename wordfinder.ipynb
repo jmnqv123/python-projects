{
  "nbformat": 4,
  "nbformat_minor": 0,
  "metadata": {
    "colab": {
      "provenance": []
    },
    "kernelspec": {
      "name": "python3",
      "display_name": "Python 3"
    },
    "language_info": {
      "name": "python"
    },
    "widgets": {
      "application/vnd.jupyter.widget-state+json": {
        "e7f0a24b8ff1485aa53ca1cdac1041f6": {
          "model_module": "@jupyter-widgets/controls",
          "model_name": "TextareaModel",
          "model_module_version": "1.5.0",
          "state": {
            "_dom_classes": [],
            "_model_module": "@jupyter-widgets/controls",
            "_model_module_version": "1.5.0",
            "_model_name": "TextareaModel",
            "_view_count": null,
            "_view_module": "@jupyter-widgets/controls",
            "_view_module_version": "1.5.0",
            "_view_name": "TextareaView",
            "continuous_update": true,
            "description": "Text:",
            "description_tooltip": null,
            "disabled": false,
            "layout": "IPY_MODEL_9ebcb83d5c9348c5804bbd59f6fee11c",
            "placeholder": "​",
            "rows": null,
            "style": "IPY_MODEL_f6ba9b222aae4ae19974514a1a4571c9",
            "value": "Google Colab is a free cloud service based on Jupyter Notebooks.\nIt allows you to write and execute Python code through the browser.\nColab is especially suited for machine learning, data analysis, and education."
          }
        },
        "9ebcb83d5c9348c5804bbd59f6fee11c": {
          "model_module": "@jupyter-widgets/base",
          "model_name": "LayoutModel",
          "model_module_version": "1.2.0",
          "state": {
            "_model_module": "@jupyter-widgets/base",
            "_model_module_version": "1.2.0",
            "_model_name": "LayoutModel",
            "_view_count": null,
            "_view_module": "@jupyter-widgets/base",
            "_view_module_version": "1.2.0",
            "_view_name": "LayoutView",
            "align_content": null,
            "align_items": null,
            "align_self": null,
            "border": null,
            "bottom": null,
            "display": null,
            "flex": null,
            "flex_flow": null,
            "grid_area": null,
            "grid_auto_columns": null,
            "grid_auto_flow": null,
            "grid_auto_rows": null,
            "grid_column": null,
            "grid_gap": null,
            "grid_row": null,
            "grid_template_areas": null,
            "grid_template_columns": null,
            "grid_template_rows": null,
            "height": "200px",
            "justify_content": null,
            "justify_items": null,
            "left": null,
            "margin": null,
            "max_height": null,
            "max_width": null,
            "min_height": null,
            "min_width": null,
            "object_fit": null,
            "object_position": null,
            "order": null,
            "overflow": null,
            "overflow_x": null,
            "overflow_y": null,
            "padding": null,
            "right": null,
            "top": null,
            "visibility": null,
            "width": "600px"
          }
        },
        "f6ba9b222aae4ae19974514a1a4571c9": {
          "model_module": "@jupyter-widgets/controls",
          "model_name": "DescriptionStyleModel",
          "model_module_version": "1.5.0",
          "state": {
            "_model_module": "@jupyter-widgets/controls",
            "_model_module_version": "1.5.0",
            "_model_name": "DescriptionStyleModel",
            "_view_count": null,
            "_view_module": "@jupyter-widgets/base",
            "_view_module_version": "1.2.0",
            "_view_name": "StyleView",
            "description_width": ""
          }
        },
        "c8b0f13d80424ace992937fa207218eb": {
          "model_module": "@jupyter-widgets/controls",
          "model_name": "TextModel",
          "model_module_version": "1.5.0",
          "state": {
            "_dom_classes": [],
            "_model_module": "@jupyter-widgets/controls",
            "_model_module_version": "1.5.0",
            "_model_name": "TextModel",
            "_view_count": null,
            "_view_module": "@jupyter-widgets/controls",
            "_view_module_version": "1.5.0",
            "_view_name": "TextView",
            "continuous_update": true,
            "description": "Search:",
            "description_tooltip": null,
            "disabled": false,
            "layout": "IPY_MODEL_d30f74e796734630b1a2f9469522e62a",
            "placeholder": "Enter word to search...",
            "style": "IPY_MODEL_a90df64e65d64eedbce7a0cddc1451a9",
            "value": ""
          }
        },
        "d30f74e796734630b1a2f9469522e62a": {
          "model_module": "@jupyter-widgets/base",
          "model_name": "LayoutModel",
          "model_module_version": "1.2.0",
          "state": {
            "_model_module": "@jupyter-widgets/base",
            "_model_module_version": "1.2.0",
            "_model_name": "LayoutModel",
            "_view_count": null,
            "_view_module": "@jupyter-widgets/base",
            "_view_module_version": "1.2.0",
            "_view_name": "LayoutView",
            "align_content": null,
            "align_items": null,
            "align_self": null,
            "border": null,
            "bottom": null,
            "display": null,
            "flex": null,
            "flex_flow": null,
            "grid_area": null,
            "grid_auto_columns": null,
            "grid_auto_flow": null,
            "grid_auto_rows": null,
            "grid_column": null,
            "grid_gap": null,
            "grid_row": null,
            "grid_template_areas": null,
            "grid_template_columns": null,
            "grid_template_rows": null,
            "height": null,
            "justify_content": null,
            "justify_items": null,
            "left": null,
            "margin": null,
            "max_height": null,
            "max_width": null,
            "min_height": null,
            "min_width": null,
            "object_fit": null,
            "object_position": null,
            "order": null,
            "overflow": null,
            "overflow_x": null,
            "overflow_y": null,
            "padding": null,
            "right": null,
            "top": null,
            "visibility": null,
            "width": "400px"
          }
        },
        "a90df64e65d64eedbce7a0cddc1451a9": {
          "model_module": "@jupyter-widgets/controls",
          "model_name": "DescriptionStyleModel",
          "model_module_version": "1.5.0",
          "state": {
            "_model_module": "@jupyter-widgets/controls",
            "_model_module_version": "1.5.0",
            "_model_name": "DescriptionStyleModel",
            "_view_count": null,
            "_view_module": "@jupyter-widgets/base",
            "_view_module_version": "1.2.0",
            "_view_name": "StyleView",
            "description_width": ""
          }
        },
        "b1a15ab0497f4bd2b5e659a4f0f28854": {
          "model_module": "@jupyter-widgets/controls",
          "model_name": "ButtonModel",
          "model_module_version": "1.5.0",
          "state": {
            "_dom_classes": [],
            "_model_module": "@jupyter-widgets/controls",
            "_model_module_version": "1.5.0",
            "_model_name": "ButtonModel",
            "_view_count": null,
            "_view_module": "@jupyter-widgets/controls",
            "_view_module_version": "1.5.0",
            "_view_name": "ButtonView",
            "button_style": "success",
            "description": "Find Word",
            "disabled": false,
            "icon": "",
            "layout": "IPY_MODEL_154d6e94e59c49b6a079bc06e8c96922",
            "style": "IPY_MODEL_fae48ed54e71486cbd184c895069b158",
            "tooltip": ""
          }
        },
        "154d6e94e59c49b6a079bc06e8c96922": {
          "model_module": "@jupyter-widgets/base",
          "model_name": "LayoutModel",
          "model_module_version": "1.2.0",
          "state": {
            "_model_module": "@jupyter-widgets/base",
            "_model_module_version": "1.2.0",
            "_model_name": "LayoutModel",
            "_view_count": null,
            "_view_module": "@jupyter-widgets/base",
            "_view_module_version": "1.2.0",
            "_view_name": "LayoutView",
            "align_content": null,
            "align_items": null,
            "align_self": null,
            "border": null,
            "bottom": null,
            "display": null,
            "flex": null,
            "flex_flow": null,
            "grid_area": null,
            "grid_auto_columns": null,
            "grid_auto_flow": null,
            "grid_auto_rows": null,
            "grid_column": null,
            "grid_gap": null,
            "grid_row": null,
            "grid_template_areas": null,
            "grid_template_columns": null,
            "grid_template_rows": null,
            "height": null,
            "justify_content": null,
            "justify_items": null,
            "left": null,
            "margin": null,
            "max_height": null,
            "max_width": null,
            "min_height": null,
            "min_width": null,
            "object_fit": null,
            "object_position": null,
            "order": null,
            "overflow": null,
            "overflow_x": null,
            "overflow_y": null,
            "padding": null,
            "right": null,
            "top": null,
            "visibility": null,
            "width": null
          }
        },
        "fae48ed54e71486cbd184c895069b158": {
          "model_module": "@jupyter-widgets/controls",
          "model_name": "ButtonStyleModel",
          "model_module_version": "1.5.0",
          "state": {
            "_model_module": "@jupyter-widgets/controls",
            "_model_module_version": "1.5.0",
            "_model_name": "ButtonStyleModel",
            "_view_count": null,
            "_view_module": "@jupyter-widgets/base",
            "_view_module_version": "1.2.0",
            "_view_name": "StyleView",
            "button_color": null,
            "font_weight": ""
          }
        },
        "6c7ca5b286494b58a2f968b7b42c9ea3": {
          "model_module": "@jupyter-widgets/output",
          "model_name": "OutputModel",
          "model_module_version": "1.0.0",
          "state": {
            "_dom_classes": [],
            "_model_module": "@jupyter-widgets/output",
            "_model_module_version": "1.0.0",
            "_model_name": "OutputModel",
            "_view_count": null,
            "_view_module": "@jupyter-widgets/output",
            "_view_module_version": "1.0.0",
            "_view_name": "OutputView",
            "layout": "IPY_MODEL_dcb70e64cb314dccb74a7d88f45d2c70",
            "msg_id": "",
            "outputs": []
          }
        },
        "dcb70e64cb314dccb74a7d88f45d2c70": {
          "model_module": "@jupyter-widgets/base",
          "model_name": "LayoutModel",
          "model_module_version": "1.2.0",
          "state": {
            "_model_module": "@jupyter-widgets/base",
            "_model_module_version": "1.2.0",
            "_model_name": "LayoutModel",
            "_view_count": null,
            "_view_module": "@jupyter-widgets/base",
            "_view_module_version": "1.2.0",
            "_view_name": "LayoutView",
            "align_content": null,
            "align_items": null,
            "align_self": null,
            "border": null,
            "bottom": null,
            "display": null,
            "flex": null,
            "flex_flow": null,
            "grid_area": null,
            "grid_auto_columns": null,
            "grid_auto_flow": null,
            "grid_auto_rows": null,
            "grid_column": null,
            "grid_gap": null,
            "grid_row": null,
            "grid_template_areas": null,
            "grid_template_columns": null,
            "grid_template_rows": null,
            "height": null,
            "justify_content": null,
            "justify_items": null,
            "left": null,
            "margin": null,
            "max_height": null,
            "max_width": null,
            "min_height": null,
            "min_width": null,
            "object_fit": null,
            "object_position": null,
            "order": null,
            "overflow": null,
            "overflow_x": null,
            "overflow_y": null,
            "padding": null,
            "right": null,
            "top": null,
            "visibility": null,
            "width": null
          }
        }
      }
    }
  },
  "cells": [
    {
      "cell_type": "code",
      "source": [
        "# Install widgets if not already installed\n",
        "!pip install ipywidgets --quiet\n",
        "\n",
        "# Import libraries\n",
        "from IPython.display import display\n",
        "import ipywidgets as widgets\n",
        "\n",
        "# Sample text\n",
        "sample_text = \"\"\"\n",
        "Google Colab is a free cloud service based on Jupyter Notebooks.\n",
        "It allows you to write and execute Python code through the browser.\n",
        "Colab is especially suited for machine learning, data analysis, and education.\n",
        "\"\"\"\n",
        "\n",
        "# Textarea for displaying/searching text\n",
        "text_area = widgets.Textarea(\n",
        "    value=sample_text.strip(),\n",
        "    description='Text:',\n",
        "    layout=widgets.Layout(width='600px', height='200px')\n",
        ")\n",
        "\n",
        "# Textbox to enter the word to search\n",
        "search_box = widgets.Text(\n",
        "    placeholder='Enter word to search...',\n",
        "    description='Search:',\n",
        "    layout=widgets.Layout(width='400px')\n",
        ")\n",
        "\n",
        "# Button to perform search\n",
        "search_button = widgets.Button(\n",
        "    description='Find Word',\n",
        "    button_style='success'\n",
        ")\n",
        "\n",
        "# Output area to show results\n",
        "output = widgets.Output()\n",
        "\n",
        "# Function to search for the word\n",
        "def search_word(b):\n",
        "    search_word = search_box.value.strip()\n",
        "    full_text = text_area.value\n",
        "\n",
        "    with output:\n",
        "        output.clear_output()\n",
        "        if not search_word:\n",
        "            print(\"Please enter a word to search.\")\n",
        "            return\n",
        "\n",
        "        # Simple case-insensitive search\n",
        "        occurrences = full_text.lower().split().count(search_word.lower())\n",
        "\n",
        "        if occurrences > 0:\n",
        "            print(f\"✅ Found '{search_word}' {occurrences} time(s) in the text!\")\n",
        "        else:\n",
        "            print(f\"❌ Word '{search_word}' not found in the text.\")\n",
        "\n",
        "# Connect button to function\n",
        "search_button.on_click(search_word)\n",
        "\n",
        "# Display widgets\n",
        "display(text_area, search_box, search_button, output)\n"
      ],
      "metadata": {
        "colab": {
          "base_uri": "https://localhost:8080/",
          "height": 283,
          "referenced_widgets": [
            "e7f0a24b8ff1485aa53ca1cdac1041f6",
            "9ebcb83d5c9348c5804bbd59f6fee11c",
            "f6ba9b222aae4ae19974514a1a4571c9",
            "c8b0f13d80424ace992937fa207218eb",
            "d30f74e796734630b1a2f9469522e62a",
            "a90df64e65d64eedbce7a0cddc1451a9",
            "b1a15ab0497f4bd2b5e659a4f0f28854",
            "154d6e94e59c49b6a079bc06e8c96922",
            "fae48ed54e71486cbd184c895069b158",
            "6c7ca5b286494b58a2f968b7b42c9ea3",
            "dcb70e64cb314dccb74a7d88f45d2c70"
          ]
        },
        "id": "RuAXaz2TwlD-",
        "outputId": "86c42f8a-9427-4a9d-afc4-15ef0b491b53"
      },
      "execution_count": 3,
      "outputs": [
        {
          "output_type": "display_data",
          "data": {
            "text/plain": [
              "Textarea(value='Google Colab is a free cloud service based on Jupyter Notebooks.\\nIt allows you to write and e…"
            ],
            "application/vnd.jupyter.widget-view+json": {
              "version_major": 2,
              "version_minor": 0,
              "model_id": "e7f0a24b8ff1485aa53ca1cdac1041f6"
            }
          },
          "metadata": {}
        },
        {
          "output_type": "display_data",
          "data": {
            "text/plain": [
              "Text(value='', description='Search:', layout=Layout(width='400px'), placeholder='Enter word to search...')"
            ],
            "application/vnd.jupyter.widget-view+json": {
              "version_major": 2,
              "version_minor": 0,
              "model_id": "c8b0f13d80424ace992937fa207218eb"
            }
          },
          "metadata": {}
        },
        {
          "output_type": "display_data",
          "data": {
            "text/plain": [
              "Button(button_style='success', description='Find Word', style=ButtonStyle())"
            ],
            "application/vnd.jupyter.widget-view+json": {
              "version_major": 2,
              "version_minor": 0,
              "model_id": "b1a15ab0497f4bd2b5e659a4f0f28854"
            }
          },
          "metadata": {}
        },
        {
          "output_type": "display_data",
          "data": {
            "text/plain": [
              "Output()"
            ],
            "application/vnd.jupyter.widget-view+json": {
              "version_major": 2,
              "version_minor": 0,
              "model_id": "6c7ca5b286494b58a2f968b7b42c9ea3"
            }
          },
          "metadata": {}
        }
      ]
    }
  ]
}