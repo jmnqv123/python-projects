{
  "nbformat": 4,
  "nbformat_minor": 0,
  "metadata": {
    "colab": {
      "provenance": []
    },
    "kernelspec": {
      "name": "python3",
      "display_name": "Python 3"
    },
    "language_info": {
      "name": "python"
    }
  },
  "cells": [
    {
      "cell_type": "code",
      "source": [
        "!pip install ipywidgets --quiet\n",
        "import ipywidgets as widgets\n",
        "from IPython.display import display, clear_output\n"
      ],
      "metadata": {
        "id": "0DvyJlR_-iYF"
      },
      "execution_count": 5,
      "outputs": []
    },
    {
      "cell_type": "code",
      "source": [
        "import ipywidgets as widgets\n",
        "from IPython.display import display, clear_output\n",
        "\n",
        "# Game state\n",
        "board = [\"\"] * 9\n",
        "current_player = [\"X\"]  # mutable for internal updates\n",
        "\n",
        "# Create buttons\n",
        "buttons = [widgets.Button(description=\"\", layout=widgets.Layout(width='60px', height='60px')) for _ in range(9)]\n",
        "status = widgets.Label(value=\"Player X's turn\")\n",
        "reset_btn = widgets.Button(description=\"🔁 Reset Game\")\n",
        "\n",
        "def check_winner():\n",
        "    wins = [(0,1,2), (3,4,5), (6,7,8),  # Rows\n",
        "            (0,3,6), (1,4,7), (2,5,8),  # Columns\n",
        "            (0,4,8), (2,4,6)]           # Diagonals\n",
        "    for a, b, c in wins:\n",
        "        if board[a] == board[b] == board[c] != \"\":\n",
        "            return board[a]\n",
        "    if \"\" not in board:\n",
        "        return \"Draw\"\n",
        "    return None\n",
        "\n",
        "def handle_click(i):\n",
        "    def on_click(b):\n",
        "        if board[i] == \"\" and check_winner() is None:\n",
        "            board[i] = current_player[0]\n",
        "            buttons[i].description = current_player[0]\n",
        "            winner = check_winner()\n",
        "            if winner:\n",
        "                if winner == \"Draw\":\n",
        "                    status.value = \"It's a draw!\"\n",
        "                else:\n",
        "                    status.value = f\"🎉 Player {winner} wins!\"\n",
        "                for btn in buttons:\n",
        "                    btn.disabled = True\n",
        "            else:\n",
        "                current_player[0] = \"O\" if current_player[0] == \"X\" else \"X\"\n",
        "                status.value = f\"Player {current_player[0]}'s turn\"\n",
        "    return on_click\n",
        "\n",
        "def reset_game(b):\n",
        "    for i in range(9):\n",
        "        board[i] = \"\"\n",
        "        buttons[i].description = \"\"\n",
        "        buttons[i].disabled = False\n",
        "    current_player[0] = \"X\"\n",
        "    status.value = \"Player X's turn\"\n",
        "\n",
        "# Attach handlers\n",
        "for i, btn in enumerate(buttons):\n",
        "    btn.on_click(handle_click(i))\n",
        "reset_btn.on_click(reset_game)\n",
        "\n",
        "# Display\n",
        "grid = widgets.GridBox(buttons, layout=widgets.Layout(\n",
        "    grid_template_columns=\"repeat(3, 60px)\",\n",
        "    grid_gap=\"5px\"\n",
        "))\n",
        "display(widgets.VBox([status, grid, reset_btn]))\n"
      ],
      "metadata": {
        "id": "dI9C0Mn7-oTp"
      },
      "execution_count": null,
      "outputs": []
    }
  ]
}