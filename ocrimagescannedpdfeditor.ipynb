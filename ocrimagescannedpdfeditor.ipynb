{
  "nbformat": 4,
  "nbformat_minor": 0,
  "metadata": {
    "colab": {
      "provenance": []
    },
    "kernelspec": {
      "name": "python3",
      "display_name": "Python 3"
    },
    "language_info": {
      "name": "python"
    }
  },
  "cells": [
    {
      "cell_type": "code",
      "source": [
        "# Install necessary libraries\n",
        "!apt-get install -y tesseract-ocr\n",
        "!pip install pytesseract pdf2image\n",
        "!apt-get install -y poppler-utils\n",
        "\n",
        "# Import required libraries\n",
        "import pytesseract\n",
        "from pdf2image import convert_from_path\n",
        "from google.colab import files\n",
        "import os\n",
        "from PIL import Image\n",
        "\n",
        "# Upload the PDF file\n",
        "uploaded = files.upload()\n",
        "\n",
        "# Function to extract text from scanned PDF using OCR\n",
        "def extract_text_from_scanned_pdf(pdf_path):\n",
        "    # Convert PDF to images\n",
        "    pages = convert_from_path(pdf_path, 500)  # Convert with high resolution\n",
        "    text = ''\n",
        "\n",
        "    for page_number, page in enumerate(pages):\n",
        "        # Use pytesseract to do OCR on the image (each page is now an image)\n",
        "        page_text = pytesseract.image_to_string(page)\n",
        "        text += f\"Page {page_number + 1}:\\n{page_text}\\n\\n\"\n",
        "\n",
        "    return text\n",
        "\n",
        "# Function to save the extracted text to a .txt file\n",
        "def save_text_to_file(text, filename=\"extracted_text.txt\"):\n",
        "    with open(filename, 'w') as file:\n",
        "        file.write(text)\n",
        "\n",
        "# Process the uploaded file\n",
        "for uploaded_filename in uploaded.keys():\n",
        "    uploaded_pdf_path = '/content/' + uploaded_filename\n",
        "    extracted_text = extract_text_from_scanned_pdf(uploaded_pdf_path)\n",
        "\n",
        "    # Save the extracted text to a file\n",
        "    output_text_file = '/content/extracted_text.txt'\n",
        "    save_text_to_file(extracted_text, output_text_file)\n",
        "\n",
        "    # Provide the text file for download\n",
        "    print(f\"Extracted text from the scanned PDF: {output_text_file}\")\n",
        "    files.download(output_text_file)  # Make the text file available for download\n"
      ],
      "metadata": {
        "id": "frKLgrzd0FkK"
      },
      "execution_count": null,
      "outputs": []
    }
  ]
}