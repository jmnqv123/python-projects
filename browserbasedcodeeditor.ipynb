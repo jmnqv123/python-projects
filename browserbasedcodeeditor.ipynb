{
  "nbformat": 4,
  "nbformat_minor": 0,
  "metadata": {
    "colab": {
      "provenance": []
    },
    "kernelspec": {
      "name": "python3",
      "display_name": "Python 3"
    },
    "language_info": {
      "name": "python"
    }
  },
  "cells": [
    {
      "cell_type": "code",
      "source": [
        "from IPython.display import HTML, display\n",
        "\n",
        "display(HTML('''\n",
        "<!DOCTYPE html>\n",
        "<html>\n",
        "<head>\n",
        "  <style>\n",
        "    #editor {\n",
        "      height: 200px;\n",
        "      width: 100%;\n",
        "      border: 1px solid #ccc;\n",
        "      font-size: 14px;\n",
        "    }\n",
        "    button {\n",
        "      margin-top: 10px;\n",
        "    }\n",
        "    #output {\n",
        "      margin-top: 10px;\n",
        "      padding: 10px;\n",
        "      background: #f0f0f0;\n",
        "      border: 1px solid #ccc;\n",
        "    }\n",
        "  </style>\n",
        "</head>\n",
        "<body>\n",
        "  <h3>Browser-Based Code Editor (JavaScript)</h3>\n",
        "  <div id=\"editor\">console.log(\"Hello, world!\");</div>\n",
        "  <button onclick=\"runCode()\">Run</button>\n",
        "  <pre id=\"output\"></pre>\n",
        "\n",
        "  <script src=\"https://cdnjs.cloudflare.com/ajax/libs/ace/1.4.14/ace.js\" integrity=\"sha512-tXxGcYAlULK9bn9ESeKjFxLKe5pP8MWqyzBG3P4FwceQ6VjAzHEJwQLPzBoUGfzTPJURZ1iHXevfZsZBg/YZhw==\" crossorigin=\"anonymous\"></script>\n",
        "  <script>\n",
        "    var editor = ace.edit(\"editor\");\n",
        "    editor.session.setMode(\"ace/mode/javascript\");\n",
        "\n",
        "    function runCode() {\n",
        "      const userCode = editor.getValue();\n",
        "      try {\n",
        "        const result = eval(userCode);\n",
        "        document.getElementById(\"output\").innerText = result === undefined ? '✓ Code ran successfully' : result;\n",
        "      } catch (err) {\n",
        "        document.getElementById(\"output\").innerText = '❌ Error: ' + err.message;\n",
        "      }\n",
        "    }\n",
        "  </script>\n",
        "</body>\n",
        "</html>\n",
        "'''))\n"
      ],
      "metadata": {
        "colab": {
          "base_uri": "https://localhost:8080/",
          "height": 361
        },
        "id": "bfgyqsGSYPTw",
        "outputId": "7bd73cc2-62ae-40ad-a4fb-c9deb0c2e620"
      },
      "execution_count": 4,
      "outputs": [
        {
          "output_type": "display_data",
          "data": {
            "text/plain": [
              "<IPython.core.display.HTML object>"
            ],
            "text/html": [
              "\n",
              "<!DOCTYPE html>\n",
              "<html>\n",
              "<head>\n",
              "  <style>\n",
              "    #editor {\n",
              "      height: 200px;\n",
              "      width: 100%;\n",
              "      border: 1px solid #ccc;\n",
              "      font-size: 14px;\n",
              "    }\n",
              "    button {\n",
              "      margin-top: 10px;\n",
              "    }\n",
              "    #output {\n",
              "      margin-top: 10px;\n",
              "      padding: 10px;\n",
              "      background: #f0f0f0;\n",
              "      border: 1px solid #ccc;\n",
              "    }\n",
              "  </style>\n",
              "</head>\n",
              "<body>\n",
              "  <h3>Browser-Based Code Editor (JavaScript)</h3>\n",
              "  <div id=\"editor\">console.log(\"Hello, world!\");</div>\n",
              "  <button onclick=\"runCode()\">Run</button>\n",
              "  <pre id=\"output\"></pre>\n",
              "\n",
              "  <script src=\"https://cdnjs.cloudflare.com/ajax/libs/ace/1.4.14/ace.js\" integrity=\"sha512-tXxGcYAlULK9bn9ESeKjFxLKe5pP8MWqyzBG3P4FwceQ6VjAzHEJwQLPzBoUGfzTPJURZ1iHXevfZsZBg/YZhw==\" crossorigin=\"anonymous\"></script>\n",
              "  <script>\n",
              "    var editor = ace.edit(\"editor\");\n",
              "    editor.session.setMode(\"ace/mode/javascript\");\n",
              "\n",
              "    function runCode() {\n",
              "      const userCode = editor.getValue();\n",
              "      try {\n",
              "        const result = eval(userCode);\n",
              "        document.getElementById(\"output\").innerText = result === undefined ? '✓ Code ran successfully' : result;\n",
              "      } catch (err) {\n",
              "        document.getElementById(\"output\").innerText = '❌ Error: ' + err.message;\n",
              "      }\n",
              "    }\n",
              "  </script>\n",
              "</body>\n",
              "</html>\n"
            ]
          },
          "metadata": {}
        }
      ]
    }
  ]
}